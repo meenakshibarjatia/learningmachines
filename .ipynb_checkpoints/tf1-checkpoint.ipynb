{
 "cells": [
  {
   "cell_type": "code",
   "execution_count": 1,
   "metadata": {},
   "outputs": [],
   "source": [
    "import tensorflow as tf"
   ]
  },
  {
   "cell_type": "code",
   "execution_count": 2,
   "metadata": {},
   "outputs": [],
   "source": [
    "from datetime import datetime\n",
    "now = datetime.utcnow().strftime(\"%Y%m%d%H%M%S\")\n",
    "root_logdir = \"tf_logs\"\n",
    "logdir = \"{}/run-{}/\".format(root_logdir, now)"
   ]
  },
  {
   "cell_type": "code",
   "execution_count": 3,
   "metadata": {},
   "outputs": [],
   "source": [
    "import numpy as np\n",
    "from sklearn.datasets import fetch_california_housing\n",
    "\n",
    "housing = fetch_california_housing()\n",
    "m, n = housing.data.shape\n",
    "housingbias = np.c_[np.ones((m,1)), housing.data]\n",
    "\n",
    "# X = tf.constant(housingbias, dtype = tf.float32, name = 'X')\n",
    "# y = tf.constant(housing.target.reshape(-1, 1), dtype = tf.float32, name = 'y')\n",
    "# XT = tf.transpose(X)\n",
    "# theta = tf.matmul(tf.matmul(tf.matrix_inverse(tf.matmul(XT, X)), XT), y)\n",
    "\n",
    "# with tf.Session() as sess:\n",
    "#     theta_value = theta.eval()"
   ]
  },
  {
   "cell_type": "code",
   "execution_count": 4,
   "metadata": {},
   "outputs": [],
   "source": [
    "from sklearn.preprocessing import StandardScaler\n",
    "\n",
    "stdscale = StandardScaler()\n",
    "scaled_housingbias = stdscale.fit_transform(housingbias)"
   ]
  },
  {
   "cell_type": "code",
   "execution_count": 5,
   "metadata": {},
   "outputs": [],
   "source": [
    "# n_epochs = 1000\n",
    "# learning_rate = 0.01\n",
    "\n",
    "# X = tf.constant(scaled_housingbias, dtype = tf.float32, name = 'X')\n",
    "# y = tf.constant(housing.target.reshape(-1, 1), dtype = tf.float32, name = 'y')\n",
    "# theta = tf.Variable(tf.random_uniform([n+1, 1], -1, 1), name = 'theta')\n",
    "# y_pred = tf.matmul(X, theta, name = \"pred\")\n",
    "# error = y_pred - y\n",
    "# mse = tf.reduce_mean(tf.square(error), name = \"mse\")\n",
    "# gradients = 2/m*tf.matmul(tf.transpose(X), error)\n",
    "# tr_op = tf.assign(theta, theta - learning_rate*gradients)\n",
    "\n",
    "# init = tf.global_variables_initializer()\n",
    "\n",
    "# with tf.Session() as sess:\n",
    "#     sess.run(init)\n",
    "    \n",
    "#     for epoch in range(n_epochs):\n",
    "#         if epoch % 100 == 0:\n",
    "#             print(\"epoch :\", epoch,\" mse = \", mse.eval())\n",
    "#         sess.run(tr_op)\n",
    "        \n",
    "#     best_theta = theta.eval()\n"
   ]
  },
  {
   "cell_type": "code",
   "execution_count": 6,
   "metadata": {},
   "outputs": [],
   "source": [
    "# n_epochs = 1000\n",
    "# learning_rate = 0.01\n",
    "\n",
    "# X = tf.constant(scaled_housingbias, dtype = tf.float32, name = 'X')\n",
    "# y = tf.constant(housing.target.reshape(-1, 1), dtype = tf.float32, name = 'y')\n",
    "# theta = tf.Variable(tf.random_uniform([n+1, 1], -1, 1), name = 'theta')\n",
    "# y_pred = tf.matmul(X, theta, name = \"pred\")\n",
    "# error = y_pred - y\n",
    "# mse = tf.reduce_mean(tf.square(error), name = \"mse\")\n",
    "# optimizer = tf.train.GradientDescentOptimizer(learning_rate = learning_rate)\n",
    "# tr_op = optimizer.minimize(mse)\n",
    "\n",
    "# init = tf.global_variables_initializer()\n",
    "\n",
    "# with tf.Session() as sess:\n",
    "#     sess.run(init)\n",
    "    \n",
    "#     for epoch in range(n_epochs):\n",
    "#         if epoch % 100 == 0:\n",
    "#             print(\"epoch :\", epoch,\" mse = \", mse.eval())\n",
    "#         sess.run(tr_op)\n",
    "        \n",
    "#     best_theta = theta.eval()"
   ]
  },
  {
   "cell_type": "code",
   "execution_count": 8,
   "metadata": {},
   "outputs": [
    {
     "ename": "TypeError",
     "evalue": "save() missing 1 required positional argument: 'save_path'",
     "output_type": "error",
     "traceback": [
      "\u001b[0;31m--------------------------------------------------------------------------\u001b[0m",
      "\u001b[0;31mTypeError\u001b[0m                                Traceback (most recent call last)",
      "\u001b[0;32m<ipython-input-8-e6a2e9869965>\u001b[0m in \u001b[0;36m<module>\u001b[0;34m()\u001b[0m\n\u001b[1;32m     42\u001b[0m                 \u001b[0mfilewriter\u001b[0m\u001b[0;34m.\u001b[0m\u001b[0madd_summary\u001b[0m\u001b[0;34m(\u001b[0m\u001b[0msumstr\u001b[0m\u001b[0;34m,\u001b[0m \u001b[0mstep\u001b[0m\u001b[0;34m)\u001b[0m\u001b[0;34m\u001b[0m\u001b[0m\n\u001b[1;32m     43\u001b[0m     \u001b[0mbest_theta\u001b[0m \u001b[0;34m=\u001b[0m \u001b[0mtheta\u001b[0m\u001b[0;34m.\u001b[0m\u001b[0meval\u001b[0m\u001b[0;34m(\u001b[0m\u001b[0;34m)\u001b[0m\u001b[0;34m\u001b[0m\u001b[0m\n\u001b[0;32m---> 44\u001b[0;31m     \u001b[0msave_path\u001b[0m \u001b[0;34m=\u001b[0m \u001b[0msaver\u001b[0m\u001b[0;34m.\u001b[0m\u001b[0msave\u001b[0m\u001b[0;34m(\u001b[0m\u001b[0;34m\"tmp/tf1.ckpt\"\u001b[0m\u001b[0;34m)\u001b[0m\u001b[0;34m\u001b[0m\u001b[0m\n\u001b[0m\u001b[1;32m     45\u001b[0m \u001b[0;34m\u001b[0m\u001b[0m\n\u001b[1;32m     46\u001b[0m \u001b[0mfilewriter\u001b[0m\u001b[0;34m.\u001b[0m\u001b[0mclose\u001b[0m\u001b[0;34m(\u001b[0m\u001b[0;34m)\u001b[0m\u001b[0;34m\u001b[0m\u001b[0m\n",
      "\u001b[0;31mTypeError\u001b[0m: save() missing 1 required positional argument: 'save_path'"
     ]
    }
   ],
   "source": [
    "n_epochs = 1000\n",
    "learning_rate = 0.01\n",
    "\n",
    "batch_size = 100\n",
    "n_batches = int(np.ceil(m/batch_size))\n",
    "\n",
    "def fetch_batch(epoch, batch_ind, batch_sz):\n",
    "    np.random.seed(epoch*n_batches + batch_ind)\n",
    "    indices = np.random.randint(m, size = batch_sz)\n",
    "    X_batch = scaled_housingbias[indices]\n",
    "    y_batch = housing.target.reshape(-1, 1)[indices]\n",
    "    return X_batch, y_batch\n",
    "\n",
    "X = tf.placeholder(tf.float32, shape = (None, n+1), name = 'X')\n",
    "y = tf.placeholder(tf.float32, shape = (None, 1), name = 'y')\n",
    "\n",
    "theta = tf.Variable(tf.random_uniform([n+1, 1], -1, 1), name = 'theta')\n",
    "y_pred = tf.matmul(X, theta, name = \"pred\")\n",
    "\n",
    "with tf.name_scope('loss') as scope:\n",
    "    error = y_pred - y\n",
    "    mse = tf.reduce_mean(tf.square(error), name = \"mse\")\n",
    "optimizer = tf.train.GradientDescentOptimizer(learning_rate = learning_rate)\n",
    "tr_op = optimizer.minimize(mse)\n",
    "\n",
    "init = tf.global_variables_initializer()\n",
    "saver = tf.train.Saver()\n",
    "\n",
    "mse_summary = tf.summary.scalar('MSE', mse)\n",
    "filewriter = tf.summary.FileWriter(logdir, tf.get_default_graph())\n",
    "\n",
    "with tf.Session() as sess:\n",
    "    sess.run(init)\n",
    "    \n",
    "    for epoch in range(n_epochs):\n",
    "        for batch_ind in range(n_batches):\n",
    "            X_batch, y_batch = fetch_batch(epoch, batch_ind, batch_size)\n",
    "            sess.run(tr_op, feed_dict = {X: X_batch, y: y_batch})\n",
    "            #if (epoch % 100 == 0) & (batch_ind % 10 == 0):\n",
    "            #    print(\"epoch :\", epoch,\" mse = \", mse.eval(feed_dict = {X: X_batch, y: y_batch}))\n",
    "            if(batch_ind % 10 == 0):\n",
    "                sumstr = mse_summary.eval(feed_dict = {X: X_batch, y: y_batch})\n",
    "                step = epoch*n_batches+batch_ind\n",
    "                filewriter.add_summary(sumstr, step)\n",
    "    best_theta = theta.eval()\n",
    "    save_path = saver.save(\"tmp/tf1.ckpt\")\n",
    "\n",
    "filewriter.close()"
   ]
  },
  {
   "cell_type": "code",
   "execution_count": null,
   "metadata": {},
   "outputs": [],
   "source": [
    "X_batch, y_batch = fetch_batch(0, 0, batch_size)\n",
    "print(X_batch.shape, y_batch.shape)\n",
    "print(n)"
   ]
  }
 ],
 "metadata": {
  "kernelspec": {
   "display_name": "Python 3",
   "language": "python",
   "name": "python3"
  },
  "language_info": {
   "codemirror_mode": {
    "name": "ipython",
    "version": 3
   },
   "file_extension": ".py",
   "mimetype": "text/x-python",
   "name": "python",
   "nbconvert_exporter": "python",
   "pygments_lexer": "ipython3",
   "version": "3.5.4"
  }
 },
 "nbformat": 4,
 "nbformat_minor": 2
}
