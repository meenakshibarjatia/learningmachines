{
 "cells": [
  {
   "cell_type": "code",
   "execution_count": null,
   "metadata": {
    "collapsed": true
   },
   "outputs": [],
   "source": [
    "#chapter4, training models\n",
    "import numpy as np\n",
    "import matplotlib.pyplot as plt"
   ]
  },
  {
   "cell_type": "code",
   "execution_count": 8,
   "metadata": {},
   "outputs": [
    {
     "data": {
      "image/png": "[encoded data removed]",
      "text/plain": [
       "<matplotlib.figure.Figure at 0x81cacf8>"
      ]
     },
     "metadata": {},
     "output_type": "display_data"
    }
   ],
   "source": [
    "x = 2*(np.random.rand(100, 1)-0.5)\n",
    "y = 3 + 4*x + np.random.randn(100, 1)\n",
    "plt.plot(x, y, 'b.')\n",
    "plt.show()"
   ]
  },
  {
   "cell_type": "code",
   "execution_count": 37,
   "metadata": {},
   "outputs": [
    {
     "name": "stdout",
     "output_type": "stream",
     "text": [
      "[[ 3.15266476]\n",
      " [ 3.9870048 ]]\n"
     ]
    },
    {
     "data": {
      "image/png": "[encoded data removed]",
      "text/plain": [
       "<matplotlib.figure.Figure at 0x8ad4048>"
      ]
     },
     "metadata": {},
     "output_type": "display_data"
    }
   ],
   "source": [
    "#for stochastic gradient descent\n",
    "n_epochs = 50\n",
    "order = 2\n",
    "t0,t1 = 5, 50\n",
    "m = len(x)\n",
    "x_b = np.c_[np.ones((m, 1)), x]\n",
    "\n",
    "def learning_schedule(t):\n",
    "    return t0/(t+t1)\n",
    "    \n",
    "theta = np.random.randn(order, 1)\n",
    "\n",
    "for ep in range(n_epochs):\n",
    "    for i in range(m):\n",
    "        ind = np.random.randint(m)\n",
    "        xi = x_b[ind:ind+1]\n",
    "        yi = y[ind:ind+1]\n",
    "        gr = xi.T*(xi.dot(theta) - yi)\n",
    "        stepsz = learning_schedule(ep*m+i)\n",
    "        theta = theta - (stepsz*gr)\n",
    "        \n",
    "print(theta)\n",
    "xt = np.arange(-1, 1, 0.1)\n",
    "xt_b = np.c_[np.ones((len(xt), 1)), xt.reshape(len(xt), -1)]\n",
    "\n",
    "plt.figure(figsize = (13,10))\n",
    "plt.plot(x, y, 'b.')\n",
    "plt.plot(xt, xt_b.dot(theta), 'r-')\n",
    "plt.show()"
   ]
  },
  {
   "cell_type": "code",
   "execution_count": null,
   "metadata": {
    "collapsed": true
   },
   "outputs": [],
   "source": []
  },
  {
   "cell_type": "code",
   "execution_count": 31,
   "metadata": {},
   "outputs": [
    {
     "name": "stdout",
     "output_type": "stream",
     "text": [
      "[[ -1.00000000e+00]\n",
      " [ -9.00000000e-01]\n",
      " [ -8.00000000e-01]\n",
      " [ -7.00000000e-01]\n",
      " [ -6.00000000e-01]\n",
      " [ -5.00000000e-01]\n",
      " [ -4.00000000e-01]\n",
      " [ -3.00000000e-01]\n",
      " [ -2.00000000e-01]\n",
      " [ -1.00000000e-01]\n",
      " [ -2.22044605e-16]\n",
      " [  1.00000000e-01]\n",
      " [  2.00000000e-01]\n",
      " [  3.00000000e-01]\n",
      " [  4.00000000e-01]\n",
      " [  5.00000000e-01]\n",
      " [  6.00000000e-01]\n",
      " [  7.00000000e-01]\n",
      " [  8.00000000e-01]\n",
      " [  9.00000000e-01]]\n"
     ]
    }
   ],
   "source": []
  },
  {
   "cell_type": "code",
   "execution_count": null,
   "metadata": {
    "collapsed": true
   },
   "outputs": [],
   "source": []
  },
  {
   "cell_type": "code",
   "execution_count": 21,
   "metadata": {},
   "outputs": [
    {
     "data": {
      "text/plain": [
       "array([[ 1.        ,  0.24522787]])"
      ]
     },
     "execution_count": 21,
     "metadata": {},
     "output_type": "execute_result"
    }
   ],
   "source": [
    "x_b[ind:ind+1]"
   ]
  },
  {
   "cell_type": "code",
   "execution_count": 22,
   "metadata": {},
   "outputs": [
    {
     "data": {
      "text/plain": [
       "array([ 1.        ,  0.24522787])"
      ]
     },
     "execution_count": 22,
     "metadata": {},
     "output_type": "execute_result"
    }
   ],
   "source": [
    "x_b[ind]"
   ]
  }
 ],
 "metadata": {
  "kernelspec": {
   "display_name": "Python 3",
   "language": "python",
   "name": "python3"
  },
  "language_info": {
   "codemirror_mode": {
    "name": "ipython",
    "version": 3
   },
   "file_extension": ".py",
   "mimetype": "text/x-python",
   "name": "python",
   "nbconvert_exporter": "python",
   "pygments_lexer": "ipython3",
   "version": "3.5.2"
  }
 },
 "nbformat": 4,
 "nbformat_minor": 2
}
